{
 "cells": [
  {
   "cell_type": "code",
   "execution_count": 15,
   "metadata": {},
   "outputs": [],
   "source": [
    "from bs4 import BeautifulSoup\n",
    "import re\n",
    "import os\n",
    "import pandas as pd\n",
    "import numpy as np\n",
    "from pprint import pprint\n",
    "import requests\n",
    "from collections import defaultdict"
   ]
  },
  {
   "cell_type": "code",
   "execution_count": 2,
   "metadata": {},
   "outputs": [],
   "source": [
    "files = os.listdir(\"scraping/MEPs\")"
   ]
  },
  {
   "cell_type": "code",
   "execution_count": 3,
   "metadata": {},
   "outputs": [
    {
     "data": {
      "text/plain": [
       "['ADAM_GIEREK_home.html',\n",
       " 'ADAM_KOSA_home.html',\n",
       " 'ADAM_SZEJNFELD_home.html',\n",
       " 'ADINA-IOANA_VALEAN_home.html',\n",
       " 'AGNES_JONGERIUS_home.html']"
      ]
     },
     "execution_count": 3,
     "metadata": {},
     "output_type": "execute_result"
    }
   ],
   "source": [
    "files[:5]"
   ]
  },
  {
   "cell_type": "code",
   "execution_count": 65,
   "metadata": {},
   "outputs": [
    {
     "data": {
      "text/plain": [
       "42"
      ]
     },
     "execution_count": 65,
     "metadata": {},
     "output_type": "execute_result"
    }
   ],
   "source": [
    "files.index(\"ANNA+ELZBIETA_FOTYGA_home.html\")"
   ]
  },
  {
   "cell_type": "code",
   "execution_count": 164,
   "metadata": {},
   "outputs": [],
   "source": [
    "with open(\"scraping/MEPs/\"+files[85], encoding='utf-8') as f:\n",
    "    rd = f.read()"
   ]
  },
  {
   "cell_type": "code",
   "execution_count": 165,
   "metadata": {},
   "outputs": [],
   "source": [
    "soup = BeautifulSoup(rd, \"lxml\")"
   ]
  },
  {
   "cell_type": "code",
   "execution_count": null,
   "metadata": {},
   "outputs": [],
   "source": []
  },
  {
   "cell_type": "code",
   "execution_count": 166,
   "metadata": {},
   "outputs": [
    {
     "data": {
      "text/plain": [
       "['Bill ETHERIDGE']"
      ]
     },
     "execution_count": 166,
     "metadata": {},
     "output_type": "execute_result"
    }
   ],
   "source": [
    "name_pattern = r'<li class=\"mep_name\"><a id=\"mep_name_button\" class=\"listen\" title=\"(.*?)\">.*?<br/>'\n",
    "re.findall(name_pattern, rd)"
   ]
  },
  {
   "cell_type": "code",
   "execution_count": 167,
   "metadata": {},
   "outputs": [
    {
     "data": {
      "text/plain": [
       "'Bill ETHERIDGE'"
      ]
     },
     "execution_count": 167,
     "metadata": {},
     "output_type": "execute_result"
    }
   ],
   "source": [
    "soup.findAll('img', {\"class\":\"photo_mep\"})[0].attrs[\"title\"]"
   ]
  },
  {
   "cell_type": "code",
   "execution_count": 168,
   "metadata": {},
   "outputs": [
    {
     "data": {
      "text/plain": [
       "'Europe of Freedom and Direct Democracy Group'"
      ]
     },
     "execution_count": 168,
     "metadata": {},
     "output_type": "execute_result"
    }
   ],
   "source": [
    "group = soup.findAll('li', {\"class\":\"group\"})[0].text.strip()\n",
    "group"
   ]
  },
  {
   "cell_type": "code",
   "execution_count": 169,
   "metadata": {
    "scrolled": true
   },
   "outputs": [
    {
     "data": {
      "text/plain": [
       "['United', 'Kingdom', 'United', 'Kingdom', 'Independence', 'Party']"
      ]
     },
     "execution_count": 169,
     "metadata": {},
     "output_type": "execute_result"
    }
   ],
   "source": [
    "country = soup.findAll('li', {\"class\":\"nationality noflag\"})[0].text.strip().split()\n",
    "country"
   ]
  },
  {
   "cell_type": "code",
   "execution_count": 170,
   "metadata": {},
   "outputs": [
    {
     "ename": "IndexError",
     "evalue": "list index out of range",
     "output_type": "error",
     "traceback": [
      "\u001b[1;31m---------------------------------------------------------------------------\u001b[0m",
      "\u001b[1;31mIndexError\u001b[0m                                Traceback (most recent call last)",
      "\u001b[1;32m<ipython-input-170-8429e2bd481c>\u001b[0m in \u001b[0;36m<module>\u001b[1;34m()\u001b[0m\n\u001b[0;32m      1\u001b[0m committee = [x.strip() for x in soup.findAll('ul', {\"class\":\"events_collection questeur\"}\n\u001b[1;32m----> 2\u001b[1;33m                                             )[0].text.strip().split(\"\\n\") if len(x.strip())]\n\u001b[0m\u001b[0;32m      3\u001b[0m \u001b[0mcommittee\u001b[0m\u001b[1;33m\u001b[0m\u001b[0m\n",
      "\u001b[1;31mIndexError\u001b[0m: list index out of range"
     ]
    }
   ],
   "source": [
    "committee = [x.strip() for x in soup.findAll('ul', {\"class\":\"events_collection questeur\"}\n",
    "                                            )[0].text.strip().split(\"\\n\") if len(x.strip())]\n",
    "committee"
   ]
  },
  {
   "cell_type": "code",
   "execution_count": 171,
   "metadata": {},
   "outputs": [
    {
     "data": {
      "text/plain": [
       "[]"
      ]
     },
     "execution_count": 171,
     "metadata": {},
     "output_type": "execute_result"
    }
   ],
   "source": [
    "soup.findAll('ul', {\"class\":\"events_collection questeur\"})"
   ]
  },
  {
   "cell_type": "code",
   "execution_count": 120,
   "metadata": {},
   "outputs": [
    {
     "data": {
      "text/plain": [
       "'adinaioana.valean@europarl.europa.eu'"
      ]
     },
     "execution_count": 120,
     "metadata": {},
     "output_type": "execute_result"
    }
   ],
   "source": [
    "emailline = soup.findAll('a', {\"title\":\"Follow this MEP\"})[0]\n",
    "handle = emailline.attrs['href'].split(\"/\")[-2]\n",
    "\n",
    "email = handle + \"@europarl.europa.eu\"\n",
    "email"
   ]
  },
  {
   "cell_type": "code",
   "execution_count": 125,
   "metadata": {},
   "outputs": [
    {
     "data": {
      "text/plain": [
       "'+32(0)2 28 45861'"
      ]
     },
     "execution_count": 125,
     "metadata": {},
     "output_type": "execute_result"
    }
   ],
   "source": [
    "phone = soup.findAll('span', {\"class\":\"phone\"})[0].text.strip()\n",
    "phone = re.sub(\"\\s+\", \" \", phone)\n",
    "phone"
   ]
  },
  {
   "cell_type": "code",
   "execution_count": 138,
   "metadata": {},
   "outputs": [
    {
     "data": {
      "text/plain": [
       "'https://twitter.com/AdinaValean'"
      ]
     },
     "execution_count": 138,
     "metadata": {},
     "output_type": "execute_result"
    }
   ],
   "source": [
    "twitter = soup.findAll('a', {\"class\":\"link_twitt\"})[1].attrs['href']\n",
    "twitter"
   ]
  },
  {
   "cell_type": "code",
   "execution_count": null,
   "metadata": {},
   "outputs": [],
   "source": [
    "facebook = soup.findAll('a', {\"class\":\"link_fb\"})[1].attrs['href']\n",
    "facebook"
   ]
  },
  {
   "cell_type": "code",
   "execution_count": 172,
   "metadata": {},
   "outputs": [],
   "source": [
    "def find_and_return(file_name):\n",
    "    \n",
    "    with open(\"scraping/MEPs/\"+file_name, encoding='utf-8') as f:\n",
    "        rd = f.read()\n",
    "        \n",
    "    soup = BeautifulSoup(rd, \"lxml\")\n",
    "    \n",
    "    try:\n",
    "        facebook = soup.findAll('a', {\"class\":\"link_fb\"})[1].attrs['href']\n",
    "    except:\n",
    "        facebook = -999\n",
    "    try:\n",
    "        twitter = soup.findAll('a', {\"class\":\"link_twitt\"})[1].attrs['href']\n",
    "    except:\n",
    "        twitter = -999\n",
    "    phone = re.sub(\"\\s+\", \" \", soup.findAll('span', {\"class\":\"phone\"})[0].text.strip())\n",
    "\n",
    "    emailline = soup.findAll('a', {\"title\":\"Follow this MEP\"})[0]\n",
    "    handle = emailline.attrs['href'].split(\"/\")[-2]\n",
    "    email = handle + \"@europarl.europa.eu\"\n",
    "    \n",
    "    try:\n",
    "        committee = [x.strip() for x in soup.findAll('ul', {\"class\":\"events_collection questeur\"}\n",
    "                                            )[0].text.strip().split(\"\\n\") if len(x.strip())]\n",
    "    except:\n",
    "        committee = -999\n",
    "        \n",
    "    country = soup.findAll('li', {\"class\":\"nationality noflag\"})[0].text.strip().split()\n",
    "    group = soup.findAll('li', {\"class\":\"group\"})[0].text.strip()\n",
    "\n",
    "    name = soup.findAll('img', {\"class\":\"photo_mep\"})[0].attrs[\"title\"]\n",
    "    \n",
    "    return name, group, country, committee, email, phone, twitter, facebook"
   ]
  },
  {
   "cell_type": "code",
   "execution_count": null,
   "metadata": {
    "scrolled": true
   },
   "outputs": [],
   "source": []
  },
  {
   "cell_type": "code",
   "execution_count": 189,
   "metadata": {},
   "outputs": [],
   "source": [
    "df = pd.DataFrame(columns=\"name, group, country, committee, email, phone, twitter, facebook\".split(', '))\n",
    "\n",
    "for i,file in enumerate(files):\n",
    "    name, group, country, committee, email, phone, twitter, facebook = find_and_return(file)\n",
    "    \n",
    "    df = df.append({v:k for k,v in zip([name, group, country, committee, email, phone, twitter, facebook],\n",
    "                                 \"name, group, country, committee, email, phone, twitter, facebook\".split(', '))},\n",
    "              ignore_index=True)\n",
    "    \n",
    "#     print(i, \"\\n\")\n",
    "#     print(\"Name: {}\\nGroup: {}\\nCountry: {}\\nCommittee: {}\\nEmail: {}\\nPhone: {}\\nTwitter: {}\\nFacebook: {}\\n\".format(\n",
    "#         name, group, country, committee, email, phone, twitter, facebook))\n",
    "#     print()"
   ]
  },
  {
   "cell_type": "code",
   "execution_count": 190,
   "metadata": {},
   "outputs": [
    {
     "data": {
      "text/html": [
       "<div>\n",
       "<style>\n",
       "    .dataframe thead tr:only-child th {\n",
       "        text-align: right;\n",
       "    }\n",
       "\n",
       "    .dataframe thead th {\n",
       "        text-align: left;\n",
       "    }\n",
       "\n",
       "    .dataframe tbody tr th {\n",
       "        vertical-align: top;\n",
       "    }\n",
       "</style>\n",
       "<table border=\"1\" class=\"dataframe\">\n",
       "  <thead>\n",
       "    <tr style=\"text-align: right;\">\n",
       "      <th></th>\n",
       "      <th>name</th>\n",
       "      <th>group</th>\n",
       "      <th>country</th>\n",
       "      <th>committee</th>\n",
       "      <th>email</th>\n",
       "      <th>phone</th>\n",
       "      <th>twitter</th>\n",
       "      <th>facebook</th>\n",
       "    </tr>\n",
       "  </thead>\n",
       "  <tbody>\n",
       "    <tr>\n",
       "      <th>0</th>\n",
       "      <td>Adam GIEREK</td>\n",
       "      <td>Group of the Progressive Alliance of Socialist...</td>\n",
       "      <td>[Poland, Unia, Pracy]</td>\n",
       "      <td>[ITRE, Committee on Industry, Research and Ene...</td>\n",
       "      <td>adam.gierek@europarl.europa.eu</td>\n",
       "      <td>+32(0)2 28 45781</td>\n",
       "      <td>https://twitter.com/adamgierek</td>\n",
       "      <td>https://www.facebook.com/AdamGierek</td>\n",
       "    </tr>\n",
       "    <tr>\n",
       "      <th>1</th>\n",
       "      <td>Ádám KÓSA</td>\n",
       "      <td>Group of the European People's Party (Christia...</td>\n",
       "      <td>[Hungary, Fidesz-Magyar, Polgári, Szövetség-Ke...</td>\n",
       "      <td>[EMPL, Committee on Employment and Social Affa...</td>\n",
       "      <td>adam.kosa@europarl.europa.eu</td>\n",
       "      <td>+32(0)2 28 45208</td>\n",
       "      <td>http://twitter.com/adamkosamep</td>\n",
       "      <td>https://www.facebook.com/adamkosamep</td>\n",
       "    </tr>\n",
       "    <tr>\n",
       "      <th>2</th>\n",
       "      <td>Adam SZEJNFELD</td>\n",
       "      <td>Group of the European People's Party (Christia...</td>\n",
       "      <td>[Poland, Platforma, Obywatelska]</td>\n",
       "      <td>[INTA, Committee on International Trade, DCAR,...</td>\n",
       "      <td>adam.szejnfeld@europarl.europa.eu</td>\n",
       "      <td>+32(0)2 28 45776</td>\n",
       "      <td>https://twitter.com/szejnfeld</td>\n",
       "      <td>https://www.facebook.com/PoselSzejnfeld/</td>\n",
       "    </tr>\n",
       "    <tr>\n",
       "      <th>3</th>\n",
       "      <td>Adina-Ioana VĂLEAN</td>\n",
       "      <td>Group of the European People's Party (Christia...</td>\n",
       "      <td>[Romania, Partidul, Naţional, Liberal]</td>\n",
       "      <td>[ENVI, Committee on the Environment, Public He...</td>\n",
       "      <td>adinaioana.valean@europarl.europa.eu</td>\n",
       "      <td>+32(0)2 28 45861</td>\n",
       "      <td>https://twitter.com/AdinaValean</td>\n",
       "      <td>https://www.facebook.com/adina.valean</td>\n",
       "    </tr>\n",
       "    <tr>\n",
       "      <th>4</th>\n",
       "      <td>Agnes JONGERIUS</td>\n",
       "      <td>Group of the Progressive Alliance of Socialist...</td>\n",
       "      <td>[Netherlands, Partij, van, de, Arbeid]</td>\n",
       "      <td>[EMPL, Committee on Employment and Social Affa...</td>\n",
       "      <td>agnes.jongerius@europarl.europa.eu</td>\n",
       "      <td>+32(0)2 28 45699</td>\n",
       "      <td>https://twitter.com/a_jongerius</td>\n",
       "      <td>https://www.facebook.com/PvdAEuropeesParlement</td>\n",
       "    </tr>\n",
       "  </tbody>\n",
       "</table>\n",
       "</div>"
      ],
      "text/plain": [
       "                 name                                              group  \\\n",
       "0         Adam GIEREK  Group of the Progressive Alliance of Socialist...   \n",
       "1           Ádám KÓSA  Group of the European People's Party (Christia...   \n",
       "2      Adam SZEJNFELD  Group of the European People's Party (Christia...   \n",
       "3  Adina-Ioana VĂLEAN  Group of the European People's Party (Christia...   \n",
       "4     Agnes JONGERIUS  Group of the Progressive Alliance of Socialist...   \n",
       "\n",
       "                                             country  \\\n",
       "0                              [Poland, Unia, Pracy]   \n",
       "1  [Hungary, Fidesz-Magyar, Polgári, Szövetség-Ke...   \n",
       "2                   [Poland, Platforma, Obywatelska]   \n",
       "3             [Romania, Partidul, Naţional, Liberal]   \n",
       "4             [Netherlands, Partij, van, de, Arbeid]   \n",
       "\n",
       "                                           committee  \\\n",
       "0  [ITRE, Committee on Industry, Research and Ene...   \n",
       "1  [EMPL, Committee on Employment and Social Affa...   \n",
       "2  [INTA, Committee on International Trade, DCAR,...   \n",
       "3  [ENVI, Committee on the Environment, Public He...   \n",
       "4  [EMPL, Committee on Employment and Social Affa...   \n",
       "\n",
       "                                  email             phone  \\\n",
       "0        adam.gierek@europarl.europa.eu  +32(0)2 28 45781   \n",
       "1          adam.kosa@europarl.europa.eu  +32(0)2 28 45208   \n",
       "2     adam.szejnfeld@europarl.europa.eu  +32(0)2 28 45776   \n",
       "3  adinaioana.valean@europarl.europa.eu  +32(0)2 28 45861   \n",
       "4    agnes.jongerius@europarl.europa.eu  +32(0)2 28 45699   \n",
       "\n",
       "                           twitter  \\\n",
       "0   https://twitter.com/adamgierek   \n",
       "1   http://twitter.com/adamkosamep   \n",
       "2    https://twitter.com/szejnfeld   \n",
       "3  https://twitter.com/AdinaValean   \n",
       "4  https://twitter.com/a_jongerius   \n",
       "\n",
       "                                          facebook  \n",
       "0              https://www.facebook.com/AdamGierek  \n",
       "1             https://www.facebook.com/adamkosamep  \n",
       "2         https://www.facebook.com/PoselSzejnfeld/  \n",
       "3            https://www.facebook.com/adina.valean  \n",
       "4  https://www.facebook.com/PvdAEuropeesParlement   "
      ]
     },
     "execution_count": 190,
     "metadata": {},
     "output_type": "execute_result"
    }
   ],
   "source": [
    "df.head()"
   ]
  },
  {
   "cell_type": "code",
   "execution_count": 191,
   "metadata": {},
   "outputs": [],
   "source": [
    "df.to_excel(\"EU_MEPs.xlsx\")"
   ]
  },
  {
   "cell_type": "code",
   "execution_count": 195,
   "metadata": {},
   "outputs": [
    {
     "data": {
      "text/plain": [
       "name           0\n",
       "group          0\n",
       "country        0\n",
       "committee      2\n",
       "email          0\n",
       "phone          0\n",
       "twitter      235\n",
       "facebook     189\n",
       "dtype: int64"
      ]
     },
     "execution_count": 195,
     "metadata": {},
     "output_type": "execute_result"
    }
   ],
   "source": [
    "751 - df.replace(-999, np.nan).count()"
   ]
  },
  {
   "cell_type": "code",
   "execution_count": null,
   "metadata": {},
   "outputs": [],
   "source": []
  },
  {
   "cell_type": "code",
   "execution_count": null,
   "metadata": {},
   "outputs": [],
   "source": []
  },
  {
   "cell_type": "code",
   "execution_count": 3,
   "metadata": {},
   "outputs": [],
   "source": [
    "url = \"http://europa.eu/whoiswho/public/index.cfm?fuseaction=idea.hierarchy&nodeID=3780&lang=en\""
   ]
  },
  {
   "cell_type": "code",
   "execution_count": 6,
   "metadata": {},
   "outputs": [],
   "source": [
    "resp = requests.get(url)"
   ]
  },
  {
   "cell_type": "code",
   "execution_count": 7,
   "metadata": {},
   "outputs": [],
   "source": [
    "soup = BeautifulSoup(resp.text, \"lxml\")"
   ]
  },
  {
   "cell_type": "code",
   "execution_count": 8,
   "metadata": {},
   "outputs": [],
   "source": [
    "tab = soup.findAll(\"table\", attrs={\"cellpadding\":\"0\", \n",
    "                                   \"cellspacing\":\"0\", \"width\":\"100%\"})[3].findAll(\"table\")[0]"
   ]
  },
  {
   "cell_type": "code",
   "execution_count": 13,
   "metadata": {},
   "outputs": [
    {
     "data": {
      "text/plain": [
       "['Belgium',\n",
       " 'Bulgaria',\n",
       " 'the Czech Republic',\n",
       " 'Denmark',\n",
       " 'Germany',\n",
       " 'Estonia',\n",
       " 'Ireland',\n",
       " 'Greece',\n",
       " 'Spain',\n",
       " 'France',\n",
       " 'Croatia',\n",
       " 'Italy',\n",
       " 'Cyprus',\n",
       " 'Latvia',\n",
       " 'Lithuania',\n",
       " 'Luxembourg',\n",
       " 'Hungary',\n",
       " 'Malta',\n",
       " 'the Netherlands',\n",
       " 'Austria',\n",
       " 'Poland',\n",
       " 'Portugal',\n",
       " 'Romania',\n",
       " 'Slovenia',\n",
       " 'Slovakia',\n",
       " 'Finland',\n",
       " 'Sweden',\n",
       " 'the United Kingdom']"
      ]
     },
     "execution_count": 13,
     "metadata": {},
     "output_type": "execute_result"
    }
   ],
   "source": [
    "countries = [re.sub(\" Permanent Representation of \", \"\",x.text) for x in tab.findAll(\"a\")]\n",
    "countries"
   ]
  },
  {
   "cell_type": "code",
   "execution_count": 14,
   "metadata": {},
   "outputs": [
    {
     "data": {
      "text/plain": [
       "['http://europa.eu/whoiswho/public/index.cfm?fuseaction=idea.hierarchy&nodeID=3781&lang=en',\n",
       " 'http://europa.eu/whoiswho/public/index.cfm?fuseaction=idea.hierarchy&nodeID=209923&lang=en',\n",
       " 'http://europa.eu/whoiswho/public/index.cfm?fuseaction=idea.hierarchy&nodeID=172741&lang=en',\n",
       " 'http://europa.eu/whoiswho/public/index.cfm?fuseaction=idea.hierarchy&nodeID=3849&lang=en',\n",
       " 'http://europa.eu/whoiswho/public/index.cfm?fuseaction=idea.hierarchy&nodeID=3901&lang=en',\n",
       " 'http://europa.eu/whoiswho/public/index.cfm?fuseaction=idea.hierarchy&nodeID=172505&lang=en',\n",
       " 'http://europa.eu/whoiswho/public/index.cfm?fuseaction=idea.hierarchy&nodeID=4251&lang=en',\n",
       " 'http://europa.eu/whoiswho/public/index.cfm?fuseaction=idea.hierarchy&nodeID=644&lang=en',\n",
       " 'http://europa.eu/whoiswho/public/index.cfm?fuseaction=idea.hierarchy&nodeID=4083&lang=en',\n",
       " 'http://europa.eu/whoiswho/public/index.cfm?fuseaction=idea.hierarchy&nodeID=4180&lang=en',\n",
       " 'http://europa.eu/whoiswho/public/index.cfm?fuseaction=idea.hierarchy&nodeID=500237&lang=en',\n",
       " 'http://europa.eu/whoiswho/public/index.cfm?fuseaction=idea.hierarchy&nodeID=4281&lang=en',\n",
       " 'http://europa.eu/whoiswho/public/index.cfm?fuseaction=idea.hierarchy&nodeID=173464&lang=en',\n",
       " 'http://europa.eu/whoiswho/public/index.cfm?fuseaction=idea.hierarchy&nodeID=172624&lang=en',\n",
       " 'http://europa.eu/whoiswho/public/index.cfm?fuseaction=idea.hierarchy&nodeID=173247&lang=en',\n",
       " 'http://europa.eu/whoiswho/public/index.cfm?fuseaction=idea.hierarchy&nodeID=4358&lang=en',\n",
       " 'http://europa.eu/whoiswho/public/index.cfm?fuseaction=idea.hierarchy&nodeID=172894&lang=en',\n",
       " 'http://europa.eu/whoiswho/public/index.cfm?fuseaction=idea.hierarchy&nodeID=172686&lang=en',\n",
       " 'http://europa.eu/whoiswho/public/index.cfm?fuseaction=idea.hierarchy&nodeID=4371&lang=en',\n",
       " 'http://europa.eu/whoiswho/public/index.cfm?fuseaction=idea.hierarchy&nodeID=26969&lang=en',\n",
       " 'http://europa.eu/whoiswho/public/index.cfm?fuseaction=idea.hierarchy&nodeID=173013&lang=en',\n",
       " 'http://europa.eu/whoiswho/public/index.cfm?fuseaction=idea.hierarchy&nodeID=4430&lang=en',\n",
       " 'http://europa.eu/whoiswho/public/index.cfm?fuseaction=idea.hierarchy&nodeID=210068&lang=en',\n",
       " 'http://europa.eu/whoiswho/public/index.cfm?fuseaction=idea.hierarchy&nodeID=172577&lang=en',\n",
       " 'http://europa.eu/whoiswho/public/index.cfm?fuseaction=idea.hierarchy&nodeID=173121&lang=en',\n",
       " 'http://europa.eu/whoiswho/public/index.cfm?fuseaction=idea.hierarchy&nodeID=26970&lang=en',\n",
       " 'http://europa.eu/whoiswho/public/index.cfm?fuseaction=idea.hierarchy&nodeID=26972&lang=en',\n",
       " 'http://europa.eu/whoiswho/public/index.cfm?fuseaction=idea.hierarchy&nodeID=4500&lang=en']"
      ]
     },
     "execution_count": 14,
     "metadata": {},
     "output_type": "execute_result"
    }
   ],
   "source": [
    "links = [\"http://europa.eu/whoiswho/public/\"+x.attrs[\"href\"] for x in tab.findAll(\"a\")]\n",
    "links"
   ]
  },
  {
   "cell_type": "code",
   "execution_count": 23,
   "metadata": {},
   "outputs": [],
   "source": [
    "data = defaultdict(dict)\n",
    "\n",
    "for country, link in zip(countries, links):\n",
    "    country_resp = requests.get(link)\n",
    "    country_soup = BeautifulSoup(country_resp.text, \"lxml\")\n",
    "    \n",
    "    country_tab = country_soup.findAll(\"table\", attrs={\"cellpadding\":\"0\", \n",
    "                                \"cellspacing\":\"0\", \"width\":\"100%\"})[3].findAll(\"table\")[0]\n",
    "    \n",
    "    representatives_names = [x.text for x in country_tab.findAll(\"a\")]\n",
    "    representatives_links = [x.attrs[\"href\"] for x in country_tab.findAll(\"a\")]\n",
    "    \n",
    "    data[country] = {\"representatives\": representatives_names,\n",
    "                    \"representative_links\": representatives_links}"
   ]
  },
  {
   "cell_type": "code",
   "execution_count": 24,
   "metadata": {},
   "outputs": [
    {
     "data": {
      "text/plain": [
       "defaultdict(dict,\n",
       "            {'Austria': {'representative_links': ['index.cfm?fuseaction=idea.hierarchy&nodeID=26969&personID=30233&lang=en',\n",
       "               'index.cfm?fuseaction=idea.hierarchy&nodeID=26969&personID=297543&lang=en',\n",
       "               'index.cfm?fuseaction=idea.hierarchy&nodeID=26969&personID=55864&lang=en',\n",
       "               'index.cfm?fuseaction=idea.hierarchy&nodeID=26969&personID=115292&lang=en'],\n",
       "              'representatives': ['MARSCHIK Nikolaus',\n",
       "               'OBERREITER Thomas',\n",
       "               'KMENTT Alexander',\n",
       "               'PAIER Alexander']},\n",
       "             'Belgium': {'representative_links': ['index.cfm?fuseaction=idea.hierarchy&nodeID=3781&personID=77988&lang=en',\n",
       "               'index.cfm?fuseaction=idea.hierarchy&nodeID=3781&personID=113102&lang=en',\n",
       "               'index.cfm?fuseaction=idea.hierarchy&nodeID=3781&personID=149701&lang=en',\n",
       "               'index.cfm?fuseaction=idea.hierarchy&nodeID=3781&personID=154301&lang=en'],\n",
       "              'representatives': ['ROUX François',\n",
       "               'HOOGMARTENS Jan',\n",
       "               \"CORNET D'ELZIUS François\",\n",
       "               'ROSSION Stéphanie']},\n",
       "             'Bulgaria': {'representative_links': ['index.cfm?fuseaction=idea.hierarchy&nodeID=209923&personID=152714&lang=en',\n",
       "               'index.cfm?fuseaction=idea.hierarchy&nodeID=209923&personID=153762&lang=en',\n",
       "               'index.cfm?fuseaction=idea.hierarchy&nodeID=209923&personID=374273&lang=en',\n",
       "               'index.cfm?fuseaction=idea.hierarchy&nodeID=209923&personID=374274&lang=en'],\n",
       "              'representatives': ['TZANTCHEV Dimiter',\n",
       "               'KOLEVA Maria',\n",
       "               'KARADJOVA Gergana',\n",
       "               'CHERVENAKOVA Genoveva']},\n",
       "             'Croatia': {'representative_links': ['index.cfm?fuseaction=idea.hierarchy&nodeID=500237&personID=157372&lang=en',\n",
       "               'index.cfm?fuseaction=idea.hierarchy&nodeID=500237&personID=156803&lang=en',\n",
       "               'index.cfm?fuseaction=idea.hierarchy&nodeID=500237&personID=155827&lang=en',\n",
       "               'index.cfm?fuseaction=idea.hierarchy&nodeID=500237&personID=155835&lang=en'],\n",
       "              'representatives': ['ŠKRABALO Mato',\n",
       "               'ŠTEFANIĆ Goran',\n",
       "               'CAR Tomislav',\n",
       "               'LONČARIĆ Vesna']},\n",
       "             'Cyprus': {'representative_links': ['index.cfm?fuseaction=idea.hierarchy&nodeID=173464&personID=124741&lang=en',\n",
       "               'index.cfm?fuseaction=idea.hierarchy&nodeID=173464&personID=149961&lang=en',\n",
       "               'index.cfm?fuseaction=idea.hierarchy&nodeID=173464&personID=157767&lang=en',\n",
       "               'index.cfm?fuseaction=idea.hierarchy&nodeID=173464&personID=460019&lang=en'],\n",
       "              'representatives': ['EMILIOU Nicholas',\n",
       "               'NEOCLEOUS Olympia',\n",
       "               'HATZIYIANNIS Stavros',\n",
       "               'PHANTI Maria']},\n",
       "             'Denmark': {'representative_links': ['index.cfm?fuseaction=idea.hierarchy&nodeID=3849&personID=158508&lang=en',\n",
       "               'index.cfm?fuseaction=idea.hierarchy&nodeID=3849&personID=157370&lang=en',\n",
       "               'index.cfm?fuseaction=idea.hierarchy&nodeID=3849&personID=157811&lang=en',\n",
       "               'index.cfm?fuseaction=idea.hierarchy&nodeID=3849&personID=157817&lang=en'],\n",
       "              'representatives': ['JØRGENSEN Kim',\n",
       "               'PASTERNAK JØRGENSEN Vibeke',\n",
       "               'LARSEN Lars Bo',\n",
       "               'KROGH BERTELSEN Tanne']},\n",
       "             'Estonia': {'representative_links': ['index.cfm?fuseaction=idea.hierarchy&nodeID=172505&personID=147176&lang=en',\n",
       "               'index.cfm?fuseaction=idea.hierarchy&nodeID=172505&personID=153765&lang=en',\n",
       "               'index.cfm?fuseaction=idea.hierarchy&nodeID=172505&personID=297582&lang=en',\n",
       "               'index.cfm?fuseaction=idea.hierarchy&nodeID=172505&personID=157958&lang=en'],\n",
       "              'representatives': ['TAEL Kaja',\n",
       "               'KULL Clyde',\n",
       "               'UIBO Lembit',\n",
       "               'POST Marika']},\n",
       "             'Finland': {'representative_links': ['index.cfm?fuseaction=idea.hierarchy&nodeID=26970&personID=157250&lang=en',\n",
       "               'index.cfm?fuseaction=idea.hierarchy&nodeID=26970&personID=124581&lang=en',\n",
       "               'index.cfm?fuseaction=idea.hierarchy&nodeID=26970&personID=118536&lang=en',\n",
       "               'index.cfm?fuseaction=idea.hierarchy&nodeID=26970&personID=157252&lang=en'],\n",
       "              'representatives': ['RISLAKKI Marja',\n",
       "               'KIVIMÄKI Minna',\n",
       "               'FROM-EMMESBERGER Sofie',\n",
       "               'BRANDT Leena']},\n",
       "             'France': {'representative_links': ['index.cfm?fuseaction=idea.hierarchy&nodeID=4180&personID=469427&lang=en',\n",
       "               'index.cfm?fuseaction=idea.hierarchy&nodeID=4180&personID=153767&lang=en',\n",
       "               'index.cfm?fuseaction=idea.hierarchy&nodeID=4180&personID=157480&lang=en',\n",
       "               'index.cfm?fuseaction=idea.hierarchy&nodeID=4180&personID=466353&lang=en'],\n",
       "              'representatives': ['LÉGLISE-COSTA Philippe',\n",
       "               'DUBREUIL Fabrice',\n",
       "               'SURAN Nicolas',\n",
       "               'FELIX-PAGANON Mathilde']},\n",
       "             'Germany': {'representative_links': ['index.cfm?fuseaction=idea.hierarchy&nodeID=3901&personID=297666&lang=en',\n",
       "               'index.cfm?fuseaction=idea.hierarchy&nodeID=3901&personID=63204&lang=en',\n",
       "               'index.cfm?fuseaction=idea.hierarchy&nodeID=3901&personID=147218&lang=en',\n",
       "               'index.cfm?fuseaction=idea.hierarchy&nodeID=3901&personID=106151&lang=en',\n",
       "               'index.cfm?fuseaction=idea.hierarchy&nodeID=3901&personID=375238&lang=en'],\n",
       "              'representatives': ['SILBERBERG Reinhard',\n",
       "               'RÖSGEN Peter',\n",
       "               'FLÜGGER Michael',\n",
       "               'FISCHER Sebastian',\n",
       "               'PLAPPERT Alexander']},\n",
       "             'Greece': {'representative_links': ['index.cfm?fuseaction=idea.hierarchy&nodeID=644&personID=108468&lang=en',\n",
       "               'index.cfm?fuseaction=idea.hierarchy&nodeID=644&personID=374286&lang=en',\n",
       "               'index.cfm?fuseaction=idea.hierarchy&nodeID=644&personID=374290&lang=en',\n",
       "               'index.cfm?fuseaction=idea.hierarchy&nodeID=644&personID=120870&lang=en'],\n",
       "              'representatives': ['PAPASTAVROU Andreas',\n",
       "               'MAKRIS Argyris',\n",
       "               'KOUNDOUROS Roussos',\n",
       "               'AGRAFIOTIS Panagiotis']},\n",
       "             'Hungary': {'representative_links': ['index.cfm?fuseaction=idea.hierarchy&nodeID=172894&personID=148538&lang=en',\n",
       "               'index.cfm?fuseaction=idea.hierarchy&nodeID=172894&personID=372447&lang=en',\n",
       "               'index.cfm?fuseaction=idea.hierarchy&nodeID=172894&personID=453164&lang=en',\n",
       "               'index.cfm?fuseaction=idea.hierarchy&nodeID=172894&personID=372451&lang=en'],\n",
       "              'representatives': ['VÁRHELYI Olivér',\n",
       "               'STELBACZKY Tibor',\n",
       "               'RUSZ Harry Alex',\n",
       "               'BÓKAY Dóra']},\n",
       "             'Ireland': {'representative_links': ['index.cfm?fuseaction=idea.hierarchy&nodeID=4251&personID=157369&lang=en',\n",
       "               'index.cfm?fuseaction=idea.hierarchy&nodeID=4251&personID=113661&lang=en',\n",
       "               'index.cfm?fuseaction=idea.hierarchy&nodeID=4251&personID=459717&lang=en',\n",
       "               'index.cfm?fuseaction=idea.hierarchy&nodeID=4251&personID=365526&lang=en'],\n",
       "              'representatives': ['KELLEHER Declan',\n",
       "               'HACKETT Joe',\n",
       "               'WHITE Noel',\n",
       "               'BRANNIGAN Ed']},\n",
       "             'Italy': {'representative_links': ['index.cfm?fuseaction=idea.hierarchy&nodeID=4281&personID=157005&lang=en',\n",
       "               'index.cfm?fuseaction=idea.hierarchy&nodeID=4281&personID=149877&lang=en',\n",
       "               'index.cfm?fuseaction=idea.hierarchy&nodeID=4281&personID=153768&lang=en',\n",
       "               'index.cfm?fuseaction=idea.hierarchy&nodeID=4281&personID=460018&lang=en'],\n",
       "              'representatives': ['MASSARI Maurizio',\n",
       "               'PUGLIESE Giovanni',\n",
       "               'FRANCHETTI PARDO Luca',\n",
       "               'BONVICINI Davide']},\n",
       "             'Latvia': {'representative_links': ['index.cfm?fuseaction=idea.hierarchy&nodeID=172624&personID=373796&lang=en',\n",
       "               'index.cfm?fuseaction=idea.hierarchy&nodeID=172624&personID=147317&lang=en',\n",
       "               'index.cfm?fuseaction=idea.hierarchy&nodeID=172624&personID=153769&lang=en',\n",
       "               'index.cfm?fuseaction=idea.hierarchy&nodeID=172624&personID=374361&lang=en'],\n",
       "              'representatives': ['PAVĻUTA-DESLANDES Sanita',\n",
       "               'BALODE Alise',\n",
       "               'VIĻUMSONS Andžejs',\n",
       "               'ZARIŅA Baiba']},\n",
       "             'Lithuania': {'representative_links': ['index.cfm?fuseaction=idea.hierarchy&nodeID=173247&personID=92455&lang=en',\n",
       "               'index.cfm?fuseaction=idea.hierarchy&nodeID=173247&personID=92456&lang=en',\n",
       "               'index.cfm?fuseaction=idea.hierarchy&nodeID=173247&personID=297542&lang=en',\n",
       "               'index.cfm?fuseaction=idea.hierarchy&nodeID=173247&personID=374291&lang=en'],\n",
       "              'representatives': ['NELIUPŠIENĖ Jovita',\n",
       "               'ROSINAS Robertas',\n",
       "               'KAMAITIS Dainius Petras',\n",
       "               'TARASĖ Žana']},\n",
       "             'Luxembourg': {'representative_links': ['index.cfm?fuseaction=idea.hierarchy&nodeID=4358&personID=27966&lang=en',\n",
       "               'index.cfm?fuseaction=idea.hierarchy&nodeID=4358&personID=157373&lang=en',\n",
       "               'index.cfm?fuseaction=idea.hierarchy&nodeID=4358&personID=153770&lang=en',\n",
       "               'index.cfm?fuseaction=idea.hierarchy&nodeID=4358&personID=365917&lang=en'],\n",
       "              'representatives': ['FRIDEN Georges',\n",
       "               'HENTGES Mike',\n",
       "               'ENGELBERG Patrick',\n",
       "               'ENSCH Carole']},\n",
       "             'Malta': {'representative_links': ['index.cfm?fuseaction=idea.hierarchy&nodeID=172686&personID=153735&lang=en',\n",
       "               'index.cfm?fuseaction=idea.hierarchy&nodeID=172686&personID=159702&lang=en',\n",
       "               'index.cfm?fuseaction=idea.hierarchy&nodeID=172686&personID=475656&lang=en',\n",
       "               'index.cfm?fuseaction=idea.hierarchy&nodeID=172686&personID=477773&lang=en'],\n",
       "              'representatives': ['AZZOPARDI Daniel',\n",
       "               'VELLA Lorenzo',\n",
       "               'FLORES Clint',\n",
       "               'CARUANA Keith']},\n",
       "             'Poland': {'representative_links': ['index.cfm?fuseaction=idea.hierarchy&nodeID=173013&personID=475660&lang=en',\n",
       "               'index.cfm?fuseaction=idea.hierarchy&nodeID=173013&personID=162463&lang=en',\n",
       "               'index.cfm?fuseaction=idea.hierarchy&nodeID=173013&personID=475661&lang=en',\n",
       "               'index.cfm?fuseaction=idea.hierarchy&nodeID=173013&personID=154282&lang=en'],\n",
       "              'representatives': ['SADOŚ Andrzej',\n",
       "               'BARKOWSKI Sebastian',\n",
       "               'ORDYK Bogumiła',\n",
       "               'BIERNACKI Adrian']},\n",
       "             'Portugal': {'representative_links': ['index.cfm?fuseaction=idea.hierarchy&nodeID=4430&personID=152988&lang=en',\n",
       "               'index.cfm?fuseaction=idea.hierarchy&nodeID=4430&personID=326030&lang=en',\n",
       "               'index.cfm?fuseaction=idea.hierarchy&nodeID=4430&personID=126022&lang=en',\n",
       "               'index.cfm?fuseaction=idea.hierarchy&nodeID=4430&personID=372470&lang=en'],\n",
       "              'representatives': ['BRITO Nuno',\n",
       "               'LOURTIE Pedro',\n",
       "               'JERÓNIMO Gilberto',\n",
       "               'MARTINS António Esteves']},\n",
       "             'Romania': {'representative_links': ['index.cfm?fuseaction=idea.hierarchy&nodeID=210068&personID=370215&lang=en',\n",
       "               'index.cfm?fuseaction=idea.hierarchy&nodeID=210068&personID=147941&lang=en',\n",
       "               'index.cfm?fuseaction=idea.hierarchy&nodeID=210068&personID=114676&lang=en',\n",
       "               'index.cfm?fuseaction=idea.hierarchy&nodeID=210068&personID=478581&lang=en',\n",
       "               'index.cfm?fuseaction=idea.hierarchy&nodeID=210068&personID=478593&lang=en'],\n",
       "              'representatives': ['ODOBESCU Luminiţa Teodora',\n",
       "               'STOICA Călin',\n",
       "               'BOIANGIU Cosmin',\n",
       "               'POP Mihaela',\n",
       "               'TUDOR Cristina']},\n",
       "             'Slovakia': {'representative_links': ['index.cfm?fuseaction=idea.hierarchy&nodeID=173121&personID=92348&lang=en',\n",
       "               'index.cfm?fuseaction=idea.hierarchy&nodeID=173121&personID=153180&lang=en',\n",
       "               'index.cfm?fuseaction=idea.hierarchy&nodeID=173121&personID=297583&lang=en',\n",
       "               'index.cfm?fuseaction=idea.hierarchy&nodeID=173121&personID=374345&lang=en'],\n",
       "              'representatives': ['JAVORČIK Peter',\n",
       "               'VARGOVÁ Petra',\n",
       "               'ČAŇO Ľubomír',\n",
       "               'NAGYOVÁ Janka']},\n",
       "             'Slovenia': {'representative_links': ['index.cfm?fuseaction=idea.hierarchy&nodeID=172577&personID=91901&lang=en',\n",
       "               'index.cfm?fuseaction=idea.hierarchy&nodeID=172577&personID=157374&lang=en',\n",
       "               'index.cfm?fuseaction=idea.hierarchy&nodeID=172577&personID=147301&lang=en',\n",
       "               'index.cfm?fuseaction=idea.hierarchy&nodeID=172577&personID=374344&lang=en'],\n",
       "              'representatives': ['LENARČIČ Janez',\n",
       "               'IPAVIC Metka',\n",
       "               'MAKOVEC Marko',\n",
       "               'ŠTRAFELA Tina']},\n",
       "             'Spain': {'representative_links': ['index.cfm?fuseaction=idea.hierarchy&nodeID=4083&personID=147388&lang=en',\n",
       "               'index.cfm?fuseaction=idea.hierarchy&nodeID=4083&personID=83879&lang=en',\n",
       "               'index.cfm?fuseaction=idea.hierarchy&nodeID=4083&personID=465911&lang=en',\n",
       "               'index.cfm?fuseaction=idea.hierarchy&nodeID=4083&personID=475463&lang=en',\n",
       "               'index.cfm?fuseaction=idea.hierarchy&nodeID=4083&personID=460146&lang=en'],\n",
       "              'representatives': ['GARCÍA-BERDOY Pablo',\n",
       "               'ARISTEGUI Juan',\n",
       "               'ACERETE GÓMEZ Manuel',\n",
       "               'VÁZQUEZ GONZÁLEZ Ana Belén',\n",
       "               'FENOY MUÑOZ Julio']},\n",
       "             'Sweden': {'representative_links': ['index.cfm?fuseaction=idea.hierarchy&nodeID=26972&personID=124629&lang=en',\n",
       "               'index.cfm?fuseaction=idea.hierarchy&nodeID=26972&personID=100897&lang=en',\n",
       "               'index.cfm?fuseaction=idea.hierarchy&nodeID=26972&personID=468935&lang=en',\n",
       "               'index.cfm?fuseaction=idea.hierarchy&nodeID=26972&personID=469426&lang=en'],\n",
       "              'representatives': ['DANIELSSON Lars',\n",
       "               'WEBBER Åsa',\n",
       "               'LINDVALL Mikael',\n",
       "               'MÖLLER Cecilia']},\n",
       "             'the Czech Republic': {'representative_links': ['index.cfm?fuseaction=idea.hierarchy&nodeID=172741&personID=153764&lang=en',\n",
       "               'index.cfm?fuseaction=idea.hierarchy&nodeID=172741&personID=147588&lang=en',\n",
       "               'index.cfm?fuseaction=idea.hierarchy&nodeID=172741&personID=157436&lang=en',\n",
       "               'index.cfm?fuseaction=idea.hierarchy&nodeID=172741&personID=157439&lang=en'],\n",
       "              'representatives': ['POVEJSIL Martin',\n",
       "               'ZAJÍČEK Jaroslav',\n",
       "               'SZUNYOG Tomáš',\n",
       "               'JANOUŠEK Petr']},\n",
       "             'the Netherlands': {'representative_links': ['index.cfm?fuseaction=idea.hierarchy&nodeID=4371&personID=83682&lang=en',\n",
       "               'index.cfm?fuseaction=idea.hierarchy&nodeID=4371&personID=156956&lang=en',\n",
       "               'index.cfm?fuseaction=idea.hierarchy&nodeID=4371&personID=157400&lang=en',\n",
       "               'index.cfm?fuseaction=idea.hierarchy&nodeID=4371&personID=154063&lang=en',\n",
       "               'index.cfm?fuseaction=idea.hierarchy&nodeID=4371&personID=477676&lang=en'],\n",
       "              'representatives': ['DE GROOT Robert',\n",
       "               'VAN ROEDEN Ronald',\n",
       "               'BALFOORT Joanneke',\n",
       "               'KENKEL Roy',\n",
       "               'OOSTERVEER Jaap']},\n",
       "             'the United Kingdom': {'representative_links': ['index.cfm?fuseaction=idea.hierarchy&nodeID=4500&personID=148333&lang=en',\n",
       "               'index.cfm?fuseaction=idea.hierarchy&nodeID=4500&personID=153772&lang=en',\n",
       "               'index.cfm?fuseaction=idea.hierarchy&nodeID=4500&personID=148518&lang=en',\n",
       "               'index.cfm?fuseaction=idea.hierarchy&nodeID=4500&personID=374276&lang=en'],\n",
       "              'representatives': ['BARROW Tim',\n",
       "               'WILLIAMS Katrina',\n",
       "               'JOHNSTON Paul',\n",
       "               'MCKINNELL Elizabeth']}})"
      ]
     },
     "execution_count": 24,
     "metadata": {},
     "output_type": "execute_result"
    }
   ],
   "source": [
    "data"
   ]
  },
  {
   "cell_type": "code",
   "execution_count": 25,
   "metadata": {},
   "outputs": [
    {
     "data": {
      "text/plain": [
       "{'representative_links': ['index.cfm?fuseaction=idea.hierarchy&nodeID=3781&personID=77988&lang=en',\n",
       "  'index.cfm?fuseaction=idea.hierarchy&nodeID=3781&personID=113102&lang=en',\n",
       "  'index.cfm?fuseaction=idea.hierarchy&nodeID=3781&personID=149701&lang=en',\n",
       "  'index.cfm?fuseaction=idea.hierarchy&nodeID=3781&personID=154301&lang=en'],\n",
       " 'representatives': ['ROUX François',\n",
       "  'HOOGMARTENS Jan',\n",
       "  \"CORNET D'ELZIUS François\",\n",
       "  'ROSSION Stéphanie']}"
      ]
     },
     "execution_count": 25,
     "metadata": {},
     "output_type": "execute_result"
    }
   ],
   "source": [
    "data[\"Belgium\"]"
   ]
  },
  {
   "cell_type": "code",
   "execution_count": null,
   "metadata": {},
   "outputs": [],
   "source": []
  },
  {
   "cell_type": "code",
   "execution_count": 98,
   "metadata": {},
   "outputs": [],
   "source": [
    "def get_info(url):\n",
    "    \n",
    "    resp = requests.get(url)\n",
    "    soup = BeautifulSoup(resp.text, \"lxml\")\n",
    "    tab = soup.findAll(\"table\", attrs={\"cellpadding\":\"0\", \n",
    "                                   \"cellspacing\":\"0\", \"width\":\"100%\"})[3].findAll(\"table\")\n",
    "    \n",
    "    position = soup.findAll(\"td\", {\"itemprop\":\"jobTitle\"})[0].text\n",
    "    email = re.findall('href=\"mailto:(.*?)\">', resp.text)[0]\n",
    "    address = re.sub(\"[\\s+|/]\", \" \",soup.findAll(\"span\", {\"itemprop\":\"address\"})[0].text)\n",
    "    telephone = soup.findAll(\"span\", {\"itemprop\":\"telephone\"})[0].text\n",
    "\n",
    "    return telephone, address, email, position"
   ]
  },
  {
   "cell_type": "code",
   "execution_count": 99,
   "metadata": {},
   "outputs": [
    {
     "data": {
      "text/plain": [
       "('+32 22298211* ',\n",
       " ' Place de Louvain 14 Leuvenseplein 14  1000           Bruxelles Brussel  Belgique*   ',\n",
       " 'courrier.bruxelles-dfra@diplomatie.gouv.fr',\n",
       " 'Ambassador Extraordinary and PlenipotentiaryPermanent Representative (Coreper II)')"
      ]
     },
     "execution_count": 99,
     "metadata": {},
     "output_type": "execute_result"
    }
   ],
   "source": [
    "get_info(\"http://europa.eu/whoiswho/public/index.cfm?fuseaction=idea.hierarchy&nodeID=4180&personID=469427&lang=en\")"
   ]
  },
  {
   "cell_type": "code",
   "execution_count": 101,
   "metadata": {},
   "outputs": [],
   "source": [
    "lst = []\n",
    "\n",
    "for country in data:\n",
    "       \n",
    "    links = data[country][\"representative_links\"]\n",
    "    names = data[country][\"representatives\"]\n",
    "    \n",
    "    for link, name in zip(links, names):\n",
    "        \n",
    "        point = {\"Country\":country, \"Name\":name, \"Link\":link}\n",
    "        \n",
    "        telephone, address, email, position = get_info(\"http://europa.eu/whoiswho/public/\"+link)\n",
    "        \n",
    "        point[\"telephone\"] = telephone\n",
    "        point[\"address\"] = address\n",
    "        point[\"email\"] = email\n",
    "        point[\"position\"] = position\n",
    "        \n",
    "        lst.append(point)"
   ]
  },
  {
   "cell_type": "code",
   "execution_count": null,
   "metadata": {},
   "outputs": [],
   "source": []
  },
  {
   "cell_type": "code",
   "execution_count": 153,
   "metadata": {},
   "outputs": [],
   "source": [
    "df = pd.DataFrame(lst)"
   ]
  },
  {
   "cell_type": "code",
   "execution_count": 154,
   "metadata": {},
   "outputs": [],
   "source": [
    "df[\"address\"] = df[\"address\"].str.replace(\"  \", \", \").str.replace(\"(, )+\", \", \"\n",
    "                ).str.replace(\"*\",\"\").str.replace(\"Bruxelles Brussel.*Belgique.*\",\n",
    "                \"Bruxelles, Belgium\").str.replace(\",,\", \",\").str.strip()"
   ]
  },
  {
   "cell_type": "code",
   "execution_count": 155,
   "metadata": {},
   "outputs": [],
   "source": [
    "df.to_excel(\"Permanent_representatives.xlsx\")"
   ]
  },
  {
   "cell_type": "code",
   "execution_count": null,
   "metadata": {},
   "outputs": [],
   "source": []
  }
 ],
 "metadata": {
  "kernelspec": {
   "display_name": "Python 3",
   "language": "python",
   "name": "python3"
  },
  "language_info": {
   "codemirror_mode": {
    "name": "ipython",
    "version": 3
   },
   "file_extension": ".py",
   "mimetype": "text/x-python",
   "name": "python",
   "nbconvert_exporter": "python",
   "pygments_lexer": "ipython3",
   "version": "3.6.5"
  }
 },
 "nbformat": 4,
 "nbformat_minor": 2
}
